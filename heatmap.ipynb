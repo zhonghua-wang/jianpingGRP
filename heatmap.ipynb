{
 "cells": [
  {
   "cell_type": "code",
   "execution_count": 1,
   "metadata": {
    "collapsed": true
   },
   "outputs": [],
   "source": [
    "from matplotlib import pyplot as plt\n",
    "import numpy\n",
    "%matplotlib inline"
   ]
  },
  {
   "cell_type": "code",
   "execution_count": 2,
   "metadata": {
    "collapsed": false
   },
   "outputs": [
    {
     "data": {
      "text/plain": [
       "array([[  0.    ,   1.    ,   2.    ,   3.    ],\n",
       "       [  1.    ,  76.1947,  73.7198,  62.9308],\n",
       "       [  2.    ,  67.1133,  80.0249,  64.0772],\n",
       "       [  3.    ,  75.1406,  82.4675,  65.3667],\n",
       "       [  4.    ,  90.5476,  66.4212,  65.0512],\n",
       "       [  5.    ,  99.8243,  53.7594,  62.2523],\n",
       "       [  6.    ,  94.2058,  48.8878,  63.9794],\n",
       "       [  7.    ,  82.6471,  66.3107,  61.0883]])"
      ]
     },
     "execution_count": 2,
     "metadata": {},
     "output_type": "execute_result"
    }
   ],
   "source": [
    "data = numpy.loadtxt('/home/zhonghua/workspace/grp/sunjx/data.csv', delimiter=',')\n",
    "data"
   ]
  },
  {
   "cell_type": "code",
   "execution_count": 4,
   "metadata": {
    "collapsed": false
   },
   "outputs": [
    {
     "name": "stdout",
     "output_type": "stream",
     "text": [
      "[ 1.  2.  3.]\n",
      "[ 1.  2.  3.  4.  5.  6.  7.]\n",
      "[[ 76.1947  73.7198  62.9308]\n",
      " [ 67.1133  80.0249  64.0772]\n",
      " [ 75.1406  82.4675  65.3667]\n",
      " [ 90.5476  66.4212  65.0512]\n",
      " [ 99.8243  53.7594  62.2523]\n",
      " [ 94.2058  48.8878  63.9794]\n",
      " [ 82.6471  66.3107  61.0883]]\n"
     ]
    }
   ],
   "source": [
    "row_labels = data[0, 1:]\n",
    "column_labels = data[1:,0]\n",
    "plot_data = data[1:,1:]\n",
    "print row_labels\n",
    "print column_labels\n",
    "print plot_data"
   ]
  },
  {
   "cell_type": "code",
   "execution_count": 5,
   "metadata": {
    "collapsed": false
   },
   "outputs": [
    {
     "data": {
      "text/plain": [
       "<matplotlib.colorbar.Colorbar at 0x7fb050301790>"
      ]
     },
     "execution_count": 5,
     "metadata": {},
     "output_type": "execute_result"
    },
    {
     "data": {
      "image/png": "[encoded data removed]",
      "text/plain": [
       "<matplotlib.figure.Figure at 0x7fb0740a4a10>"
      ]
     },
     "metadata": {},
     "output_type": "display_data"
    }
   ],
   "source": [
    "heatmap = plt.pcolor(plot_data)\n",
    "heatmap.axes.set_yticks(numpy.arange(plot_data.shape[0])+0.5, minor=False)\n",
    "heatmap.axes.set_xticks(numpy.arange(plot_data.shape[1])+0.5, minor=False)\n",
    "heatmap.axes.set_xticklabels(row_labels, minor=False)\n",
    "heatmap.axes.set_yticklabels(column_labels, minor=False)\n",
    "plt.colorbar(heatmap)"
   ]
  }
 ],
 "metadata": {
  "kernelspec": {
   "display_name": "Python 2",
   "language": "python",
   "name": "python2"
  },
  "language_info": {
   "codemirror_mode": {
    "name": "ipython",
    "version": 2
   },
   "file_extension": ".py",
   "mimetype": "text/x-python",
   "name": "python",
   "nbconvert_exporter": "python",
   "pygments_lexer": "ipython2",
   "version": "2.7.10"
  }
 },
 "nbformat": 4,
 "nbformat_minor": 0
}
